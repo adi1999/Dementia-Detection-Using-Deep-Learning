{
 "cells": [
  {
   "cell_type": "code",
   "execution_count": 1,
   "metadata": {},
   "outputs": [],
   "source": [
    "import pandas as pd\n",
    "import numpy as np"
   ]
  },
  {
   "cell_type": "code",
   "execution_count": 2,
   "metadata": {},
   "outputs": [
    {
     "name": "stderr",
     "output_type": "stream",
     "text": [
      "C:\\Users\\Aditya\\AppData\\Local\\Continuum\\anaconda3\\lib\\site-packages\\IPython\\core\\interactiveshell.py:3020: DtypeWarning: Columns (4,5) have mixed types. Specify dtype option on import or set low_memory=False.\n",
      "  interactivity=interactivity, compiler=compiler, result=result)\n"
     ]
    }
   ],
   "source": [
    "data = pd.read_csv('t1.txt')\n"
   ]
  },
  {
   "cell_type": "code",
   "execution_count": 3,
   "metadata": {},
   "outputs": [
    {
     "data": {
      "text/html": [
       "<div>\n",
       "<style scoped>\n",
       "    .dataframe tbody tr th:only-of-type {\n",
       "        vertical-align: middle;\n",
       "    }\n",
       "\n",
       "    .dataframe tbody tr th {\n",
       "        vertical-align: top;\n",
       "    }\n",
       "\n",
       "    .dataframe thead th {\n",
       "        text-align: right;\n",
       "    }\n",
       "</style>\n",
       "<table border=\"1\" class=\"dataframe\">\n",
       "  <thead>\n",
       "    <tr style=\"text-align: right;\">\n",
       "      <th></th>\n",
       "      <th>Date</th>\n",
       "      <th>Time</th>\n",
       "      <th>S</th>\n",
       "      <th>M</th>\n",
       "      <th>Type</th>\n",
       "      <th>A</th>\n",
       "      <th>B</th>\n",
       "      <th>C</th>\n",
       "    </tr>\n",
       "  </thead>\n",
       "  <tbody>\n",
       "    <tr>\n",
       "      <th>0</th>\n",
       "      <td>2010-11-04</td>\n",
       "      <td>00:03:50.209589</td>\n",
       "      <td>M003</td>\n",
       "      <td>ON</td>\n",
       "      <td>Sleeping</td>\n",
       "      <td>begin</td>\n",
       "      <td>NaN</td>\n",
       "      <td>NaN</td>\n",
       "    </tr>\n",
       "    <tr>\n",
       "      <th>1</th>\n",
       "      <td>2010-11-04</td>\n",
       "      <td>00:03:57.399391</td>\n",
       "      <td>M003</td>\n",
       "      <td>OFF</td>\n",
       "      <td>NaN</td>\n",
       "      <td>NaN</td>\n",
       "      <td>NaN</td>\n",
       "      <td>NaN</td>\n",
       "    </tr>\n",
       "    <tr>\n",
       "      <th>2</th>\n",
       "      <td>2010-11-04</td>\n",
       "      <td>00:15:08.984841</td>\n",
       "      <td>T002</td>\n",
       "      <td>21.5</td>\n",
       "      <td>NaN</td>\n",
       "      <td>NaN</td>\n",
       "      <td>NaN</td>\n",
       "      <td>NaN</td>\n",
       "    </tr>\n",
       "    <tr>\n",
       "      <th>3</th>\n",
       "      <td>2010-11-04</td>\n",
       "      <td>00:30:19.185547</td>\n",
       "      <td>T003</td>\n",
       "      <td>21</td>\n",
       "      <td>NaN</td>\n",
       "      <td>NaN</td>\n",
       "      <td>NaN</td>\n",
       "      <td>NaN</td>\n",
       "    </tr>\n",
       "    <tr>\n",
       "      <th>4</th>\n",
       "      <td>2010-11-04</td>\n",
       "      <td>00:30:19.385336</td>\n",
       "      <td>T004</td>\n",
       "      <td>21</td>\n",
       "      <td>NaN</td>\n",
       "      <td>NaN</td>\n",
       "      <td>NaN</td>\n",
       "      <td>NaN</td>\n",
       "    </tr>\n",
       "  </tbody>\n",
       "</table>\n",
       "</div>"
      ],
      "text/plain": [
       "         Date             Time     S     M      Type      A   B   C\n",
       "0  2010-11-04  00:03:50.209589  M003    ON  Sleeping  begin NaN NaN\n",
       "1  2010-11-04  00:03:57.399391  M003   OFF       NaN    NaN NaN NaN\n",
       "2  2010-11-04  00:15:08.984841  T002  21.5       NaN    NaN NaN NaN\n",
       "3  2010-11-04  00:30:19.185547  T003    21       NaN    NaN NaN NaN\n",
       "4  2010-11-04  00:30:19.385336  T004    21       NaN    NaN NaN NaN"
      ]
     },
     "execution_count": 3,
     "metadata": {},
     "output_type": "execute_result"
    }
   ],
   "source": [
    "data.head()"
   ]
  },
  {
   "cell_type": "code",
   "execution_count": 4,
   "metadata": {},
   "outputs": [],
   "source": [
    "#print(data.S.value_counts())"
   ]
  },
  {
   "cell_type": "code",
   "execution_count": 5,
   "metadata": {},
   "outputs": [],
   "source": [
    "data = data[data.S != 'T001']   # Temperture is constant\n",
    "data = data[data.S != 'T002']\n",
    "data = data[data.S != 'T003']\n",
    "data = data[data.S != 'T004']\n",
    "data = data[data.S != 'T005']\n",
    "data = data[data.S != 'M020']   # these sensors have broad area of cover, so the small sensors overlap here, therefore they are removed\n",
    "data = data[data.S != 'M007']\n",
    "data = data[data.S != 'M019']\n",
    "data = data[data.S != 'M027']\n"
   ]
  },
  {
   "cell_type": "code",
   "execution_count": 6,
   "metadata": {},
   "outputs": [],
   "source": [
    "#print(data.S.value_counts())"
   ]
  },
  {
   "cell_type": "code",
   "execution_count": 7,
   "metadata": {
    "scrolled": true
   },
   "outputs": [],
   "source": [
    "#print(data.M.value_counts())"
   ]
  },
  {
   "cell_type": "code",
   "execution_count": 8,
   "metadata": {},
   "outputs": [],
   "source": [
    "ep_seg = data.copy()"
   ]
  },
  {
   "cell_type": "code",
   "execution_count": 9,
   "metadata": {},
   "outputs": [],
   "source": [
    "#print(ep_seg.S.value_counts())"
   ]
  },
  {
   "cell_type": "code",
   "execution_count": 10,
   "metadata": {},
   "outputs": [],
   "source": [
    "ep_seg = ep_seg[ep_seg.S != 'D001']\n",
    "ep_seg = ep_seg[ep_seg.S != 'D002']\n",
    "ep_seg = ep_seg[ep_seg.S != 'D004']\n",
    "ep_seg = ep_seg[ep_seg.S != 'LEAVEHOME']\n",
    "ep_seg = ep_seg[ep_seg.S != 'ENTERHOME']\n",
    "ep_seg = ep_seg[ep_seg.S != 'c']\n",
    "ep_seg = ep_seg[ep_seg.M != 'OFFc']\n",
    "ep_seg = ep_seg[ep_seg.M != 'ONc']\n",
    "ep_seg = ep_seg[ep_seg.M != 'ON5']\n",
    "ep_seg = ep_seg[ep_seg.M != 'OFF5']\n",
    "ep_seg = ep_seg[ep_seg.M != 'ONcc']\n",
    "ep_seg = ep_seg[ep_seg.M != 'OFF5c']\n",
    "ep_seg = ep_seg[ep_seg.M != 'ON5c']\n",
    "ep_seg = ep_seg[ep_seg.M != 'OFFcc']\n",
    "ep_seg = ep_seg[ep_seg.M != 'OFFc5']\n",
    "ep_seg = ep_seg[ep_seg.M != 'ONc5']\n",
    "ep_seg = ep_seg[ep_seg.M != 'OFcF']\n",
    "ep_seg = ep_seg[ep_seg.M != 'ONc5c']\n",
    "ep_seg = ep_seg[ep_seg.M != 'ONM024']\n",
    "ep_seg = ep_seg[ep_seg.M != 'ON55']\n",
    "ep_seg = ep_seg[ep_seg.M != 'OFF5cc']\n",
    "ep_seg = ep_seg[ep_seg.M != 'ONM026']\n",
    "ep_seg = ep_seg[ep_seg.M != 'OFFccc5']\n",
    "ep_seg = ep_seg[ep_seg.M != 'ONM009']\n",
    "ep_seg = ep_seg[ep_seg.M != 'O']"
   ]
  },
  {
   "cell_type": "code",
   "execution_count": 11,
   "metadata": {},
   "outputs": [],
   "source": [
    "#print(ep_seg.S.value_counts())"
   ]
  },
  {
   "cell_type": "code",
   "execution_count": 12,
   "metadata": {},
   "outputs": [],
   "source": [
    "#print(ep_seg.M.value_counts())"
   ]
  },
  {
   "cell_type": "code",
   "execution_count": 13,
   "metadata": {},
   "outputs": [],
   "source": [
    "ep_seg1 = ep_seg.copy()"
   ]
  },
  {
   "cell_type": "code",
   "execution_count": 14,
   "metadata": {},
   "outputs": [],
   "source": [
    "ep_seg1 = ep_seg[ep_seg1.M != 'OFF']"
   ]
  },
  {
   "cell_type": "code",
   "execution_count": 15,
   "metadata": {},
   "outputs": [],
   "source": [
    "import datetime\n",
    "from datetime import timedelta"
   ]
  },
  {
   "cell_type": "code",
   "execution_count": 16,
   "metadata": {},
   "outputs": [],
   "source": [
    "ep_segt=list(ep_seg1.Time)\n",
    "ep_segs=list(ep_seg1.S)\n"
   ]
  },
  {
   "cell_type": "code",
   "execution_count": 17,
   "metadata": {},
   "outputs": [],
   "source": [
    "for i in range(len(ep_segt)):\n",
    "    data_pre = ep_segt[i].strip().split(',')\n",
    "    \n",
    "\n",
    "    stDate = data_pre[0].replace(\"\\\"\", \"\")\n",
    "    #print (\"stDate before: \", stDate)\n",
    "    try:\n",
    "        \n",
    "        dat_time = datetime.datetime.strptime(stDate,\n",
    "                               '%H:%M:%S.%f')\n",
    "\n",
    "# If that doesn't work, we add \".4\" to the end of stDate\n",
    "# (You can change this to \".0\")\n",
    "# We then retry to convert stDate into datetime format                                   \n",
    "    except:\n",
    "        stDate = stDate + \".4\"\n",
    "        dat_time = datetime.datetime.strptime(stDate,\n",
    "                               '%H:%M:%S.%f')\n",
    "        #print (\"stDate after: \", stDate)\n",
    "    ep_segt[i] = stDate   \n",
    "    "
   ]
  },
  {
   "cell_type": "code",
   "execution_count": 18,
   "metadata": {},
   "outputs": [
    {
     "name": "stdout",
     "output_type": "stream",
     "text": [
      "8\n"
     ]
    }
   ],
   "source": [
    "\n",
    "t1='00:00:07.209589'\n",
    "t2='23:59:59.209589'\n",
    "datetimeFormat = '%H:%M:%S.%f'\n",
    "diff = datetime.datetime.strptime(t1, datetimeFormat) - datetime.datetime.strptime(t2, datetimeFormat)\n",
    "print(diff.seconds)"
   ]
  },
  {
   "cell_type": "code",
   "execution_count": 19,
   "metadata": {},
   "outputs": [],
   "source": [
    "segment = []\n",
    "new = []\n",
    "new.append(ep_segs[0])\n",
    "f=0\n",
    "prev_time =  '00:03:50.209589'\n",
    "datetimeFormat = '%H:%M:%S.%f'\n",
    "for i in range(1,len(ep_seg1)):\n",
    "\n",
    "        \n",
    "    diff = datetime.datetime.strptime(ep_segt[i], datetimeFormat) - datetime.datetime.strptime(prev_time, datetimeFormat)\n",
    "        \n",
    "    prev_time = ep_segt[i]\n",
    "    \n",
    "        \n",
    "    if diff.seconds > 10 or (ep_segs[i-1]==ep_segs[i]):\n",
    "        if(len(new)>0):\n",
    "            segment.append(new)\n",
    "        E = []\n",
    "        E.append(ep_segs[i])\n",
    "        new = E\n",
    "    else:\n",
    "        new.append(ep_segs[i])    \n",
    "if(len(new)>0):\n",
    "    segment.append(new)"
   ]
  },
  {
   "cell_type": "code",
   "execution_count": 20,
   "metadata": {},
   "outputs": [
    {
     "data": {
      "text/plain": [
       "830733"
      ]
     },
     "execution_count": 20,
     "metadata": {},
     "output_type": "execute_result"
    }
   ],
   "source": [
    "len(segment)"
   ]
  },
  {
   "cell_type": "code",
   "execution_count": 21,
   "metadata": {},
   "outputs": [],
   "source": [
    "l=[segment[i] for i in range(len(segment)) if len(segment[i])<=32 and len(segment[i])>3]"
   ]
  },
  {
   "cell_type": "code",
   "execution_count": 22,
   "metadata": {},
   "outputs": [],
   "source": [
    "#l=[segment[i] for i in range(len(segment)) if len(segment[i])>3]"
   ]
  },
  {
   "cell_type": "code",
   "execution_count": 23,
   "metadata": {},
   "outputs": [],
   "source": [
    "#l1=[len(i) for i in l]"
   ]
  },
  {
   "cell_type": "code",
   "execution_count": 24,
   "metadata": {},
   "outputs": [],
   "source": [
    "#df=pd.DataFrame(list(zip(l1)),columns=['seg'])"
   ]
  },
  {
   "cell_type": "code",
   "execution_count": null,
   "metadata": {},
   "outputs": [],
   "source": []
  },
  {
   "cell_type": "code",
   "execution_count": 25,
   "metadata": {},
   "outputs": [],
   "source": [
    "segment=l "
   ]
  },
  {
   "cell_type": "code",
   "execution_count": null,
   "metadata": {},
   "outputs": [],
   "source": []
  },
  {
   "cell_type": "code",
   "execution_count": 26,
   "metadata": {},
   "outputs": [
    {
     "data": {
      "text/plain": [
       "124653"
      ]
     },
     "execution_count": 26,
     "metadata": {},
     "output_type": "execute_result"
    }
   ],
   "source": [
    "len(segment)"
   ]
  },
  {
   "cell_type": "code",
   "execution_count": 79,
   "metadata": {},
   "outputs": [],
   "source": [
    "p=dict()\n",
    "p['M001']=[15,2]\n",
    "p['M002']=[12,2]\n",
    "p['M003']=[12,3]\n",
    "p['M004']=[18,5]\n",
    "p['M005']=[14,5]\n",
    "p['M006']=[11,5]\n",
    "p['M008']=[10,5]\n",
    "p['M009']=[8,5]\n",
    "p['M010']=[8,3]\n",
    "p['M011']=[10,1]\n",
    "p['M012']=[4,3]\n",
    "p['M013']=[4,6]\n",
    "p['M014']=[5,9]\n",
    "p['M015']=[3,11]\n",
    "p['M016']=[7,14]\n",
    "p['M017']=[7,13]\n",
    "p['M018']=[7,11]\n",
    "p['M021']=[10,9]\n",
    "p['M022']=[13,8]\n",
    "p['M023']=[15,10]\n",
    "p['M024']=[18,8]\n",
    "p['M025']=[20,11]\n",
    "p['M026']=[19,13]\n",
    "p['M028']=[15,11]\n",
    "p['M029']=[13,13]\n",
    "p['M030']=[14,14]\n",
    "p['M031']=[10,10]"
   ]
  },
  {
   "cell_type": "code",
   "execution_count": 80,
   "metadata": {},
   "outputs": [],
   "source": [
    "import math\n",
    "def distance(l1,l2):\n",
    "    return (math.sqrt((l1[0]-l2[0])**2 + (l1[1]-l2[1])**2))/2"
   ]
  },
  {
   "cell_type": "code",
   "execution_count": 81,
   "metadata": {},
   "outputs": [],
   "source": [
    "def diff(t1,t2):\n",
    "    l = datetime.datetime.strptime(t2, datetimeFormat) - datetime.datetime.strptime(t1, datetimeFormat)\n",
    "    d = l.seconds\n",
    "    return d"
   ]
  },
  {
   "cell_type": "code",
   "execution_count": 82,
   "metadata": {},
   "outputs": [],
   "source": [
    "def f4(segment):\n",
    "    F4=[]\n",
    "    c=-1\n",
    "    for i in range(len(segment)):\n",
    "        diff = datetime.datetime.strptime(ep_segt[c+len(segment[i])], datetimeFormat) - datetime.datetime.strptime(ep_segt[c+1], datetimeFormat)\n",
    "        #c+=len(segment[i])\n",
    "        if diff.seconds==0:\n",
    "            speed=0\n",
    "        else:\n",
    "            speed = (distance(p[segment[i][0]], p[segment[i][len(segment[i])-1]]))/(diff.seconds)\n",
    "        c+=len(segment[i])\n",
    "        F4.append(speed)\n",
    "    return F4 "
   ]
  },
  {
   "cell_type": "code",
   "execution_count": 83,
   "metadata": {},
   "outputs": [],
   "source": [
    "F=f4(segment)"
   ]
  },
  {
   "cell_type": "code",
   "execution_count": 84,
   "metadata": {},
   "outputs": [],
   "source": [
    "k = [F[i] for i in range(len(F)) if F[i]>5]"
   ]
  },
  {
   "cell_type": "code",
   "execution_count": 85,
   "metadata": {},
   "outputs": [
    {
     "data": {
      "text/plain": [
       "7.0710678118654755"
      ]
     },
     "execution_count": 85,
     "metadata": {},
     "output_type": "execute_result"
    }
   ],
   "source": [
    "max(k)"
   ]
  },
  {
   "cell_type": "code",
   "execution_count": 86,
   "metadata": {},
   "outputs": [],
   "source": [
    " def new(segment):\n",
    "    v=list()\n",
    "    c=0\n",
    "    for i in range(len(segment)):\n",
    "        f=0\n",
    "        if len(segment[i])>=2:\n",
    "            for j in range(len(segment[i])-1):\n",
    "                c+=1\n",
    "                if diff(ep_segt[c],ep_segt[c+1])==0:\n",
    "                    continue\n",
    "                s = (distance(p[segment[i][j]], p[segment[i][j+1]]))/(diff(ep_segt[c],ep_segt[c+1]))\n",
    "                if s<10:\n",
    "                    f=1\n",
    "                    #v.append(segment[i])\n",
    "        \n",
    "        if f==1:\n",
    "            v.append(segment[i])\n",
    "        c+=1\n",
    "    return v            "
   ]
  },
  {
   "cell_type": "code",
   "execution_count": 67,
   "metadata": {},
   "outputs": [],
   "source": [
    "k = new(segment)"
   ]
  },
  {
   "cell_type": "code",
   "execution_count": null,
   "metadata": {},
   "outputs": [],
   "source": [
    "len(k)"
   ]
  },
  {
   "cell_type": "code",
   "execution_count": null,
   "metadata": {},
   "outputs": [],
   "source": [
    "#t=direct(segment)"
   ]
  },
  {
   "cell_type": "code",
   "execution_count": null,
   "metadata": {},
   "outputs": [],
   "source": [
    "#def f4(segment):\n",
    "    "
   ]
  },
  {
   "cell_type": "code",
   "execution_count": 27,
   "metadata": {},
   "outputs": [],
   "source": [
    "def direct(segment):\n",
    "    l=[]\n",
    "    \n",
    "    for i in range(len(segment)):\n",
    "        f=0\n",
    "        g=0\n",
    "\n",
    "        n=len(segment[i])\n",
    "        for j in range(n-1):\n",
    "            for k in range(j+1,n):\n",
    "                if segment[i][j]==segment[i][k]:\n",
    "                    l.append(0)\n",
    "                    f=1\n",
    "                    g=1\n",
    "                if g==1:\n",
    "                    break\n",
    "            if g==1:\n",
    "                break\n",
    "        if f==0:\n",
    "            l.append(1)\n",
    "            \n",
    "    return l                     "
   ]
  },
  {
   "cell_type": "code",
   "execution_count": 28,
   "metadata": {},
   "outputs": [],
   "source": [
    "def pacing(segment):\n",
    "    m = []\n",
    "    for i in range(len(segment)):\n",
    "        x = []\n",
    "        n = len(segment[i])\n",
    "        for j in range(n-3):\n",
    "            if segment[i][j] == segment[i][j+2] and segment[i][j+1]==segment[i][j+3]:\n",
    "                k = j+4\n",
    "                while k<n-1 :\n",
    "                    if segment[i][j]==segment[i][k] and segment[i][j+1]==segment[i][k+1]:\n",
    "                        k+=2\n",
    "                    else:\n",
    "                        break\n",
    "                x.append(2) \n",
    "                j = k-2\n",
    "        m.append(x)\n",
    "    return m"
   ]
  },
  {
   "cell_type": "code",
   "execution_count": 29,
   "metadata": {},
   "outputs": [],
   "source": [
    "def islaping(seg,i,j):\n",
    "    l=seg[i:j]\n",
    "    l=list(set(l))\n",
    "    #if j-i-len(l)<3:\n",
    "    if len(l)< 3:\n",
    "        return False\n",
    "    else:\n",
    "        return True"
   ]
  },
  {
   "cell_type": "code",
   "execution_count": 30,
   "metadata": {},
   "outputs": [],
   "source": [
    "def laping(segment):\n",
    "    g=[]\n",
    "    for i in range(len(segment)):\n",
    "        tempEnd1=-1\n",
    "        tempEnd2=-1\n",
    "        h=[]\n",
    "        n = len(segment[i])\n",
    "        for j in range(n-1):\n",
    "            for k in range(j+1,n):\n",
    "                if segment[i][k]==segment[i][j]:\n",
    "                    l=0\n",
    "                    while j+l<k and k+l<n:\n",
    "                        if segment[i][j+l]==segment[i][k+l]:\n",
    "                            l+=1\n",
    "                        else:\n",
    "                            break\n",
    "                    if j+l == k or j+1 == k-1:\n",
    "                        if tempEnd1 < k+l and islaping(segment[i],j,k):\n",
    "                            h.append(3)\n",
    "                            tempEnd1=k+l\n",
    "                            break\n",
    "                    if (k-j)%2 == 0:\n",
    "                        l = j+1\n",
    "                        while l<(j+k)/2 and l<n:\n",
    "                            if k-l+j<n and segment[i][l]==segment[i][k-l+j]:\n",
    "                                l+=1\n",
    "                            else:\n",
    "                                break\n",
    "                        if l==(j+k)/2:\n",
    "                            if tempEnd2<k and islaping(segment[i],j,k):\n",
    "                                h.append(3)\n",
    "                                tempEnd2=k\n",
    "                                break\n",
    "        g.append(h)\n",
    "    return g"
   ]
  },
  {
   "cell_type": "code",
   "execution_count": 31,
   "metadata": {},
   "outputs": [],
   "source": [
    "def classify(segment):   \n",
    "    f=[-1 for _ in range(len(segment))]\n",
    "    l1=direct(segment)\n",
    "    l2=pacing(segment)\n",
    "    l3=laping(segment)\n",
    "    for i in range(len(segment)):\n",
    "        if l1[i]==1:\n",
    "            f[i]=1\n",
    "        else:\n",
    "            if len(l2[i])==0 and len(l3[i])==0:\n",
    "                f[i]=4\n",
    "            elif len(l2[i])>=len(l3[i]):\n",
    "                f[i]=2\n",
    "            else :\n",
    "                f[i]=3\n",
    "            #else:\n",
    "            #    f[i]=2\n",
    "    return f"
   ]
  },
  {
   "cell_type": "code",
   "execution_count": 32,
   "metadata": {},
   "outputs": [],
   "source": [
    "patterns=classify(segment)\n",
    "\n"
   ]
  },
  {
   "cell_type": "code",
   "execution_count": 33,
   "metadata": {},
   "outputs": [
    {
     "data": {
      "text/plain": [
       "(48179, 17288, 11154, 48032)"
      ]
     },
     "execution_count": 33,
     "metadata": {},
     "output_type": "execute_result"
    }
   ],
   "source": [
    "c1=0\n",
    "c2=0\n",
    "c3=0\n",
    "c4=0\n",
    "for i in patterns:\n",
    "    if i==1:\n",
    "        c1+=1\n",
    "    elif i==2:\n",
    "        c2+=1\n",
    "    elif i==3:\n",
    "        c3+=1\n",
    "    else:\n",
    "        c4+=1\n",
    "c1,c2,c3,c4"
   ]
  },
  {
   "cell_type": "code",
   "execution_count": 34,
   "metadata": {},
   "outputs": [],
   "source": [
    "#g=[segment[i] for i in range(len(segment)) if len(segment[i])>=6]\n"
   ]
  },
  {
   "cell_type": "code",
   "execution_count": 35,
   "metadata": {},
   "outputs": [],
   "source": [
    "#r=laping(segment)"
   ]
  },
  {
   "cell_type": "code",
   "execution_count": 36,
   "metadata": {},
   "outputs": [],
   "source": [
    "num=dict()\n",
    "num['M001']=1\n",
    "num['M002']=2\n",
    "num['M003']=3\n",
    "num['M004']=4\n",
    "num['M005']=5\n",
    "num['M006']=6\n",
    "num['M007']=7\n",
    "num['M008']=8\n",
    "num['M009']=9\n",
    "num['M010']=10\n",
    "num['M011']=11\n",
    "num['M012']=12\n",
    "num['M013']=13\n",
    "num['M014']=14\n",
    "num['M015']=15\n",
    "num['M016']=16\n",
    "num['M017']=17\n",
    "num['M018']=18\n",
    "num['M019']=19\n",
    "num['M020']=20\n",
    "num['M021']=21\n",
    "num['M022']=22\n",
    "num['M023']=23\n",
    "num['M024']=24\n",
    "num['M025']=25\n",
    "num['M026']=26\n",
    "num['M027']=27\n",
    "num['M028']=28\n",
    "num['M029']=29\n",
    "num['M030']=30\n",
    "num['M031']=31"
   ]
  },
  {
   "cell_type": "code",
   "execution_count": 37,
   "metadata": {},
   "outputs": [],
   "source": [
    "def image(segment,patterns):\n",
    "    d=[]\n",
    "    p=[]\n",
    "    l=[]\n",
    "    r=[]\n",
    "    for i in range(len(segment)):\n",
    "        mat=np.zeros([32,32])\n",
    "        for j in range(len(segment[i])):\n",
    "                mat[31-num[segment[i][j]]][j]=1 \n",
    "        if patterns[i]==1:\n",
    "            d.append(mat)\n",
    "        elif patterns[i]==2:\n",
    "            p.append(mat)\n",
    "        elif patterns[i]==3:\n",
    "            l.append(mat)\n",
    "        else:\n",
    "            r.append(mat)\n",
    "    return d,p,l,r"
   ]
  },
  {
   "cell_type": "code",
   "execution_count": 38,
   "metadata": {},
   "outputs": [],
   "source": [
    "d,p1,l,r=image(segment,patterns)"
   ]
  },
  {
   "cell_type": "code",
   "execution_count": 39,
   "metadata": {},
   "outputs": [],
   "source": [
    "d=np.asarray(d)\n",
    "p1=np.asarray(p1)\n",
    "l=np.asarray(l)\n",
    "r=np.asarray(r)"
   ]
  },
  {
   "cell_type": "code",
   "execution_count": 40,
   "metadata": {},
   "outputs": [
    {
     "data": {
      "text/plain": [
       "<matplotlib.image.AxesImage at 0x2423240f2b0>"
      ]
     },
     "execution_count": 40,
     "metadata": {},
     "output_type": "execute_result"
    }
   ],
   "source": [
    "import matplotlib.pyplot as plt\n",
    "plt.imshow(r[25])"
   ]
  },
  {
   "cell_type": "code",
   "execution_count": 41,
   "metadata": {},
   "outputs": [],
   "source": [
    "X=[]\n",
    "Y=[]"
   ]
  },
  {
   "cell_type": "code",
   "execution_count": 42,
   "metadata": {},
   "outputs": [],
   "source": [
    "for i in range(len(d)):\n",
    "    X.append(d[i])\n",
    "    Y.append(1)\n",
    "for i in range(len(p1)):\n",
    "    X.append(p1[i])\n",
    "    Y.append(2)\n",
    "for i in range(len(l)):\n",
    "    X.append(l[i])\n",
    "    Y.append(3)\n",
    "for i in range(len(r)):\n",
    "    X.append(r[i])\n",
    "    Y.append(4)    \n"
   ]
  },
  {
   "cell_type": "code",
   "execution_count": 43,
   "metadata": {},
   "outputs": [],
   "source": [
    "images_df=pd.DataFrame(list(zip(X,Y)), columns =['image', 'Pattern']) "
   ]
  },
  {
   "cell_type": "code",
   "execution_count": 44,
   "metadata": {},
   "outputs": [
    {
     "data": {
      "text/plain": [
       "array([[0., 0., 0., ..., 0., 0., 0.],\n",
       "       [0., 0., 0., ..., 0., 0., 0.],\n",
       "       [0., 0., 0., ..., 0., 0., 0.],\n",
       "       ...,\n",
       "       [0., 0., 0., ..., 0., 0., 0.],\n",
       "       [0., 0., 0., ..., 0., 0., 0.],\n",
       "       [0., 0., 0., ..., 0., 0., 0.]])"
      ]
     },
     "execution_count": 44,
     "metadata": {},
     "output_type": "execute_result"
    }
   ],
   "source": [
    "images_df.image[5]"
   ]
  },
  {
   "cell_type": "code",
   "execution_count": 45,
   "metadata": {},
   "outputs": [],
   "source": [
    "target_direct = images_df.loc[images_df['Pattern'] ==1]\n",
    "target_pacing = images_df.loc[images_df['Pattern'] ==2]\n",
    "target_laping = images_df.loc[images_df['Pattern'] ==3]\n",
    "target_random = images_df.loc[images_df['Pattern'] ==4]"
   ]
  },
  {
   "cell_type": "code",
   "execution_count": 46,
   "metadata": {},
   "outputs": [],
   "source": [
    "target_direct = target_direct.sample(n=3000,random_state=14 )\n",
    "target_pacing = target_pacing.sample(n=3000,random_state=14 )\n",
    "target_laping = target_laping.sample(n=3000,random_state=14 )\n",
    "target_random = target_random.sample(n=3000,random_state=14 )"
   ]
  },
  {
   "cell_type": "code",
   "execution_count": 47,
   "metadata": {},
   "outputs": [],
   "source": [
    "final_patterns = pd.concat([target_direct,target_pacing,target_laping,target_random], ignore_index=True)"
   ]
  },
  {
   "cell_type": "code",
   "execution_count": 48,
   "metadata": {},
   "outputs": [],
   "source": [
    "\n",
    "#g=np.random.choice(len(d),3000)\n",
    "#d1=d[g]\n",
    "#for i in range(3000):\n",
    "#    X.append(d1[i])\n",
    "#    Y.append(1)\n",
    "#g=np.random.choice(len(p1),3000)\n",
    "#p2=p1[g]\n",
    "#for i in range(3000):\n",
    "#    X.append(p2[i])\n",
    "#    Y.append(2)\n",
    "#g=np.random.choice(len(l),3000)\n",
    "#l1=l[g]\n",
    "#for i in range(3000):\n",
    " #   X.append(l1[i])\n",
    " #   Y.append(3)\n",
    "#g=np.random.choice(len(r),3000)\n",
    "#r1=r[g]\n",
    "#for i in range(3000):\n",
    "#    X.append(r1[i])\n",
    "#    Y.append(4)"
   ]
  },
  {
   "cell_type": "code",
   "execution_count": 49,
   "metadata": {},
   "outputs": [],
   "source": [
    "Y1 = final_patterns['Pattern']\n",
    "X1 = final_patterns.drop(['Pattern'],axis=1)"
   ]
  },
  {
   "cell_type": "code",
   "execution_count": 50,
   "metadata": {},
   "outputs": [
    {
     "name": "stderr",
     "output_type": "stream",
     "text": [
      "C:\\Users\\Aditya\\AppData\\Local\\Continuum\\anaconda3\\lib\\site-packages\\ipykernel_launcher.py:1: FutureWarning: Method .as_matrix will be removed in a future version. Use .values instead.\n",
      "  \"\"\"Entry point for launching an IPython kernel.\n"
     ]
    }
   ],
   "source": [
    "images_array = X1.as_matrix()"
   ]
  },
  {
   "cell_type": "code",
   "execution_count": 51,
   "metadata": {},
   "outputs": [],
   "source": [
    "im=[i[0] for i in images_array]"
   ]
  },
  {
   "cell_type": "code",
   "execution_count": 52,
   "metadata": {},
   "outputs": [],
   "source": [
    "im=np.asarray(im)"
   ]
  },
  {
   "cell_type": "code",
   "execution_count": 53,
   "metadata": {},
   "outputs": [],
   "source": [
    "X=im"
   ]
  },
  {
   "cell_type": "code",
   "execution_count": 54,
   "metadata": {},
   "outputs": [],
   "source": [
    "X=np.expand_dims(X,axis=3)"
   ]
  },
  {
   "cell_type": "code",
   "execution_count": 55,
   "metadata": {},
   "outputs": [
    {
     "data": {
      "text/plain": [
       "(12000, 32, 32, 1)"
      ]
     },
     "execution_count": 55,
     "metadata": {},
     "output_type": "execute_result"
    }
   ],
   "source": [
    "X.shape"
   ]
  },
  {
   "cell_type": "code",
   "execution_count": 56,
   "metadata": {},
   "outputs": [
    {
     "name": "stderr",
     "output_type": "stream",
     "text": [
      "Using TensorFlow backend.\n"
     ]
    }
   ],
   "source": [
    "from keras.utils import to_categorical"
   ]
  },
  {
   "cell_type": "code",
   "execution_count": 57,
   "metadata": {},
   "outputs": [],
   "source": [
    "Y1=[i-1 for i in Y1]\n",
    "Y1=to_categorical(Y1,num_classes=4)"
   ]
  },
  {
   "cell_type": "code",
   "execution_count": 58,
   "metadata": {},
   "outputs": [
    {
     "data": {
      "text/plain": [
       "(12000, 4)"
      ]
     },
     "execution_count": 58,
     "metadata": {},
     "output_type": "execute_result"
    }
   ],
   "source": [
    "Y1.shape"
   ]
  },
  {
   "cell_type": "code",
   "execution_count": 59,
   "metadata": {},
   "outputs": [],
   "source": [
    "import keras\n",
    "from keras.models import Sequential\n",
    "from keras.layers import Dense, Dropout, Flatten\n",
    "from keras.layers import Conv2D, MaxPooling2D\n",
    "from keras.callbacks import TensorBoard"
   ]
  },
  {
   "cell_type": "code",
   "execution_count": 60,
   "metadata": {},
   "outputs": [],
   "source": [
    "from sklearn.model_selection import train_test_split"
   ]
  },
  {
   "cell_type": "code",
   "execution_count": 61,
   "metadata": {},
   "outputs": [],
   "source": [
    "#from sklearn.utils import shuffle\n",
    "#X1,Y1=shuffle(X,Y)    "
   ]
  },
  {
   "cell_type": "code",
   "execution_count": 62,
   "metadata": {},
   "outputs": [],
   "source": [
    "X_train,x_test,Y_train,y_test = train_test_split(X,Y1,test_size = 0.1, random_state = 14)"
   ]
  },
  {
   "cell_type": "code",
   "execution_count": 63,
   "metadata": {},
   "outputs": [],
   "source": [
    "x_train,x_val,y_train,y_val = train_test_split(X_train,Y_train,test_size = 0.1, random_state = 14)"
   ]
  },
  {
   "cell_type": "code",
   "execution_count": 64,
   "metadata": {},
   "outputs": [
    {
     "name": "stdout",
     "output_type": "stream",
     "text": [
      "WARNING:tensorflow:From C:\\Users\\Aditya\\AppData\\Local\\Continuum\\anaconda3\\lib\\site-packages\\tensorflow\\python\\framework\\op_def_library.py:263: colocate_with (from tensorflow.python.framework.ops) is deprecated and will be removed in a future version.\n",
      "Instructions for updating:\n",
      "Colocations handled automatically by placer.\n"
     ]
    }
   ],
   "source": [
    "model = Sequential()\n",
    "\n",
    "model.add(Conv2D(32, (5, 5), padding='same',input_shape=(32, 32, 1),activation='relu'))\n",
    "model.add(MaxPooling2D(pool_size=(2, 2)))\n",
    "#model.add(Conv2D(32, (5, 5), activation='relu'))\n",
    "#model.add(MaxPooling2D(pool_size=(2, 2)))\n",
    "model.add(Conv2D(128, (5, 5), activation='relu'))\n",
    "model.add(MaxPooling2D(pool_size=(2, 2)))\n",
    "#model.add(Dropout(0.2))\n",
    "\n",
    "#model.add(Conv2D(128, (3, 3), padding='same',\n",
    "#                 activation='relu'))\n",
    "#model.add(Conv2D(64, (3, 3), activation='relu'))\n",
    "#model.add(MaxPooling2D(pool_size=(2, 2)))\n",
    "#model.add(Dropout(0.2))\n",
    "\n",
    "model.add(Conv2D(256, (3, 3), padding='same',\n",
    "                 activation='relu'))\n",
    "#model.add(Conv2D(256, (3, 3), activation='relu'))\n",
    "model.add(MaxPooling2D(pool_size=(2, 2)))\n",
    "#model.add(Dropout(0.2))\n",
    "\n",
    "model.add(Flatten())\n",
    "model.add(Dense(512, activation='relu'))\n",
    "model.add(Dense(128, activation='relu'))\n",
    "model.add(Dense(64, activation='relu'))\n",
    "#model.add(Dropout(0.5))\n",
    "model.add(Dense(4, activation='softmax'))\n",
    "\n",
    "learning_rate = 0.0001\n",
    "\n",
    "opt = keras.optimizers.adam(lr=learning_rate, decay=1e-6)"
   ]
  },
  {
   "cell_type": "code",
   "execution_count": 65,
   "metadata": {},
   "outputs": [],
   "source": [
    "model.compile(loss='categorical_crossentropy',\n",
    "              optimizer='adam',\n",
    "              metrics=['accuracy'])"
   ]
  },
  {
   "cell_type": "code",
   "execution_count": 66,
   "metadata": {},
   "outputs": [
    {
     "name": "stdout",
     "output_type": "stream",
     "text": [
      "_________________________________________________________________\n",
      "Layer (type)                 Output Shape              Param #   \n",
      "=================================================================\n",
      "conv2d_1 (Conv2D)            (None, 32, 32, 32)        832       \n",
      "_________________________________________________________________\n",
      "max_pooling2d_1 (MaxPooling2 (None, 16, 16, 32)        0         \n",
      "_________________________________________________________________\n",
      "conv2d_2 (Conv2D)            (None, 12, 12, 128)       102528    \n",
      "_________________________________________________________________\n",
      "max_pooling2d_2 (MaxPooling2 (None, 6, 6, 128)         0         \n",
      "_________________________________________________________________\n",
      "conv2d_3 (Conv2D)            (None, 6, 6, 256)         295168    \n",
      "_________________________________________________________________\n",
      "max_pooling2d_3 (MaxPooling2 (None, 3, 3, 256)         0         \n",
      "_________________________________________________________________\n",
      "flatten_1 (Flatten)          (None, 2304)              0         \n",
      "_________________________________________________________________\n",
      "dense_1 (Dense)              (None, 512)               1180160   \n",
      "_________________________________________________________________\n",
      "dense_2 (Dense)              (None, 128)               65664     \n",
      "_________________________________________________________________\n",
      "dense_3 (Dense)              (None, 64)                8256      \n",
      "_________________________________________________________________\n",
      "dense_4 (Dense)              (None, 4)                 260       \n",
      "=================================================================\n",
      "Total params: 1,652,868\n",
      "Trainable params: 1,652,868\n",
      "Non-trainable params: 0\n",
      "_________________________________________________________________\n"
     ]
    }
   ],
   "source": [
    "model.summary()"
   ]
  },
  {
   "cell_type": "code",
   "execution_count": 84,
   "metadata": {},
   "outputs": [
    {
     "name": "stdout",
     "output_type": "stream",
     "text": [
      "Train on 9720 samples, validate on 1080 samples\n",
      "Epoch 1/2\n",
      "9720/9720 [==============================] - 31s 3ms/step - loss: 0.0081 - acc: 0.9971 - val_loss: 0.1440 - val_acc: 0.9750\n",
      "Epoch 2/2\n",
      "9720/9720 [==============================] - 31s 3ms/step - loss: 0.0081 - acc: 0.9985 - val_loss: 0.1255 - val_acc: 0.9741\n"
     ]
    },
    {
     "data": {
      "text/plain": [
       "<keras.callbacks.History at 0x24249837978>"
      ]
     },
     "execution_count": 84,
     "metadata": {},
     "output_type": "execute_result"
    }
   ],
   "source": [
    "model.fit(x_train,y_train,batch_size=32,epochs=26,validation_data=(x_val,y_val))"
   ]
  },
  {
   "cell_type": "code",
   "execution_count": 85,
   "metadata": {},
   "outputs": [],
   "source": [
    "#model.save('wdcnn_12000.h5')"
   ]
  },
  {
   "cell_type": "code",
   "execution_count": 86,
   "metadata": {},
   "outputs": [],
   "source": [
    "t=model.predict(x_test)"
   ]
  },
  {
   "cell_type": "code",
   "execution_count": 87,
   "metadata": {},
   "outputs": [],
   "source": [
    "#y_test=[i+1 for i in y_test]\n",
    "res=t.argmax(axis=-1)"
   ]
  },
  {
   "cell_type": "code",
   "execution_count": 88,
   "metadata": {},
   "outputs": [],
   "source": [
    "yt=[np.where(r==1)[0][0] for r in y_test]"
   ]
  },
  {
   "cell_type": "code",
   "execution_count": 89,
   "metadata": {},
   "outputs": [
    {
     "name": "stdout",
     "output_type": "stream",
     "text": [
      "0.9741666666666666\n"
     ]
    }
   ],
   "source": [
    "from sklearn.metrics import accuracy_score as a\n",
    "print(a(yt,res))"
   ]
  },
  {
   "cell_type": "code",
   "execution_count": 8,
   "metadata": {},
   "outputs": [],
   "source": [
    "import numpy as np\n",
    "l=[[0.2,0.8],[0.7,0.3]]\n",
    "l=np.asarray(l)\n",
    "h=l.argmax(axis=-1)"
   ]
  },
  {
   "cell_type": "code",
   "execution_count": 9,
   "metadata": {},
   "outputs": [
    {
     "data": {
      "text/plain": [
       "array([1, 0], dtype=int64)"
      ]
     },
     "execution_count": 9,
     "metadata": {},
     "output_type": "execute_result"
    }
   ],
   "source": [
    "h"
   ]
  },
  {
   "cell_type": "code",
   "execution_count": null,
   "metadata": {},
   "outputs": [],
   "source": []
  }
 ],
 "metadata": {
  "kernelspec": {
   "display_name": "Python 3",
   "language": "python",
   "name": "python3"
  },
  "language_info": {
   "codemirror_mode": {
    "name": "ipython",
    "version": 3
   },
   "file_extension": ".py",
   "mimetype": "text/x-python",
   "name": "python",
   "nbconvert_exporter": "python",
   "pygments_lexer": "ipython3",
   "version": "3.7.1"
  }
 },
 "nbformat": 4,
 "nbformat_minor": 2
}
